{
  "nbformat": 4,
  "nbformat_minor": 0,
  "metadata": {
    "colab": {
      "provenance": [],
      "authorship_tag": "ABX9TyOWN2XQUbnMokQEe8hbw3wF",
      "include_colab_link": true
    },
    "kernelspec": {
      "name": "python3",
      "display_name": "Python 3"
    },
    "language_info": {
      "name": "python"
    }
  },
  "cells": [
    {
      "cell_type": "markdown",
      "metadata": {
        "id": "view-in-github",
        "colab_type": "text"
      },
      "source": [
        "<a href=\"https://colab.research.google.com/github/Harini240/Harini240/blob/main/q_learning_with_linear_function.ipynb\" target=\"_parent\"><img src=\"https://colab.research.google.com/assets/colab-badge.svg\" alt=\"Open In Colab\"/></a>"
      ]
    },
    {
      "cell_type": "code",
      "source": [
        "import numpy as np\n",
        "\n",
        "class QLearningLinearFA:\n",
        "    def __init__(self, num_features, num_actions, learning_rate=0, discount_factor=0.9, epsilon=0.1):\n",
        "        self.num_features = num_features\n",
        "        self.num_actions = num_actions\n",
        "        self.learning_rate = learning_rate\n",
        "        self.discount_factor = discount_factor\n",
        "        self.epsilon = epsilon\n",
        "        self.weights = np.zeros((num_actions, num_features))\n",
        "\n",
        "    def select_action(self, state):\n",
        "        if np.random.rand() < self.epsilon:\n",
        "            return np.random.choice(self.num_actions)\n",
        "        else:\n",
        "            return np.argmax(np.dot(self.weights, state))\n",
        "\n",
        "    def update_weights(self, state, action, reward, next_state):\n",
        "        target = reward + self.discount_factor * np.max(np.dot(self.weights, next_state))\n",
        "        predicted = np.dot(self.weights[action], state)\n",
        "        error = target - predicted\n",
        "        self.weights[action] += self.learning_rate * error * state\n",
        "\n",
        "num_features = 4\n",
        "num_actions = 3\n",
        "ql = QLearningLinearFA(num_features, num_actions)\n",
        "num_episodes = 1000\n",
        "\n",
        "for episode in range(num_episodes):\n",
        "    state = np.random.rand(num_features)\n",
        "    done = False\n",
        "    total_reward = 0\n",
        "\n",
        "    while not done:\n",
        "        action = ql.select_action(state)\n",
        "        next_state = np.random.rand(num_features)\n",
        "        reward = np.random.randn()\n",
        "        done = np.random.rand()<0.1\n",
        "        ql.update_weights(state, action, reward, next_state)  # Fix the indentation here\n",
        "        state = next_state\n",
        "        total_reward += reward\n",
        "print(\"Episode:\", episode,\"Total Reward:\", total_reward)"
      ],
      "metadata": {
        "colab": {
          "base_uri": "https://localhost:8080/"
        },
        "id": "UNzQNhaHDSSI",
        "outputId": "6e5419b0-e6bc-4b40-ddaf-6e467b177ec1"
      },
      "execution_count": 5,
      "outputs": [
        {
          "output_type": "stream",
          "name": "stdout",
          "text": [
            "Episode: 999 Total Reward: -0.8746561595133486\n"
          ]
        }
      ]
    }
  ]
}