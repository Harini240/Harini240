{
 "cells": [
  {
   "cell_type": "code",
   "execution_count": 1,
   "id": "bce353fe",
   "metadata": {},
   "outputs": [],
   "source": [
    "import pandas as pd\n",
    "from sklearn.model_selection import train_test_split\n",
    "from sklearn.naive_bayes import GaussianNB\n",
    "from sklearn.metrics import accuracy_score, classification_report"
   ]
  },
  {
   "cell_type": "code",
   "execution_count": 2,
   "id": "1b4a1e0a",
   "metadata": {},
   "outputs": [
    {
     "name": "stdout",
     "output_type": "stream",
     "text": [
      "      Marital status  Application mode  Application order  Course  \\\n",
      "0                  1                 8                  5       2   \n",
      "1                  1                 6                  1      11   \n",
      "2                  1                 1                  5       5   \n",
      "3                  1                 8                  2      15   \n",
      "4                  2                12                  1       3   \n",
      "...              ...               ...                ...     ...   \n",
      "4419               1                 1                  6      15   \n",
      "4420               1                 1                  2      15   \n",
      "4421               1                 1                  1      12   \n",
      "4422               1                 1                  1       9   \n",
      "4423               1                 5                  1      15   \n",
      "\n",
      "      Daytime/evening attendance  Previous qualification  Nacionality  \\\n",
      "0                              1                       1            1   \n",
      "1                              1                       1            1   \n",
      "2                              1                       1            1   \n",
      "3                              1                       1            1   \n",
      "4                              0                       1            1   \n",
      "...                          ...                     ...          ...   \n",
      "4419                           1                       1            1   \n",
      "4420                           1                       1           19   \n",
      "4421                           1                       1            1   \n",
      "4422                           1                       1            1   \n",
      "4423                           1                       1            9   \n",
      "\n",
      "      Mother's qualification  Father's qualification  Mother's occupation  \\\n",
      "0                         13                      10                    6   \n",
      "1                          1                       3                    4   \n",
      "2                         22                      27                   10   \n",
      "3                         23                      27                    6   \n",
      "4                         22                      28                   10   \n",
      "...                      ...                     ...                  ...   \n",
      "4419                       1                       1                    6   \n",
      "4420                       1                       1                   10   \n",
      "4421                      22                      27                   10   \n",
      "4422                      22                      27                    8   \n",
      "4423                      23                      27                    6   \n",
      "\n",
      "      ...  Curricular units 2nd sem (credited)  \\\n",
      "0     ...                                    0   \n",
      "1     ...                                    0   \n",
      "2     ...                                    0   \n",
      "3     ...                                    0   \n",
      "4     ...                                    0   \n",
      "...   ...                                  ...   \n",
      "4419  ...                                    0   \n",
      "4420  ...                                    0   \n",
      "4421  ...                                    0   \n",
      "4422  ...                                    0   \n",
      "4423  ...                                    0   \n",
      "\n",
      "      Curricular units 2nd sem (enrolled)  \\\n",
      "0                                       0   \n",
      "1                                       6   \n",
      "2                                       6   \n",
      "3                                       6   \n",
      "4                                       6   \n",
      "...                                   ...   \n",
      "4419                                    6   \n",
      "4420                                    6   \n",
      "4421                                    8   \n",
      "4422                                    5   \n",
      "4423                                    6   \n",
      "\n",
      "      Curricular units 2nd sem (evaluations)  \\\n",
      "0                                          0   \n",
      "1                                          6   \n",
      "2                                          0   \n",
      "3                                         10   \n",
      "4                                          6   \n",
      "...                                      ...   \n",
      "4419                                       8   \n",
      "4420                                       6   \n",
      "4421                                       9   \n",
      "4422                                       6   \n",
      "4423                                       6   \n",
      "\n",
      "      Curricular units 2nd sem (approved)  Curricular units 2nd sem (grade)  \\\n",
      "0                                       0                          0.000000   \n",
      "1                                       6                         13.666667   \n",
      "2                                       0                          0.000000   \n",
      "3                                       5                         12.400000   \n",
      "4                                       6                         13.000000   \n",
      "...                                   ...                               ...   \n",
      "4419                                    5                         12.666667   \n",
      "4420                                    2                         11.000000   \n",
      "4421                                    1                         13.500000   \n",
      "4422                                    5                         12.000000   \n",
      "4423                                    6                         13.000000   \n",
      "\n",
      "      Curricular units 2nd sem (without evaluations)  Unemployment rate  \\\n",
      "0                                                  0               10.8   \n",
      "1                                                  0               13.9   \n",
      "2                                                  0               10.8   \n",
      "3                                                  0                9.4   \n",
      "4                                                  0               13.9   \n",
      "...                                              ...                ...   \n",
      "4419                                               0               15.5   \n",
      "4420                                               0               11.1   \n",
      "4421                                               0               13.9   \n",
      "4422                                               0                9.4   \n",
      "4423                                               0               12.7   \n",
      "\n",
      "      Inflation rate   GDP    Target  \n",
      "0                1.4  1.74   Dropout  \n",
      "1               -0.3  0.79  Graduate  \n",
      "2                1.4  1.74   Dropout  \n",
      "3               -0.8 -3.12  Graduate  \n",
      "4               -0.3  0.79  Graduate  \n",
      "...              ...   ...       ...  \n",
      "4419             2.8 -4.06  Graduate  \n",
      "4420             0.6  2.02   Dropout  \n",
      "4421            -0.3  0.79   Dropout  \n",
      "4422            -0.8 -3.12  Graduate  \n",
      "4423             3.7 -1.70  Graduate  \n",
      "\n",
      "[4424 rows x 35 columns]\n"
     ]
    }
   ],
   "source": [
    "data = pd.read_csv(\"dataset.csv\")\n",
    "print(data)"
   ]
  },
  {
   "cell_type": "code",
   "execution_count": 5,
   "id": "b304eae3",
   "metadata": {},
   "outputs": [
    {
     "name": "stdout",
     "output_type": "stream",
     "text": [
      "          Inflation rate  GDP\n",
      "Target                       \n",
      "Dropout              NaN  NaN\n",
      "Graduate             NaN  NaN\n",
      "Dropout              NaN  NaN\n",
      "Graduate             NaN  NaN\n",
      "Graduate             NaN  NaN\n",
      "...                  ...  ...\n",
      "Graduate             NaN  NaN\n",
      "Dropout              NaN  NaN\n",
      "Dropout              NaN  NaN\n",
      "Graduate             NaN  NaN\n",
      "Graduate             NaN  NaN\n",
      "\n",
      "[4424 rows x 2 columns]\n"
     ]
    }
   ],
   "source": [
    "X = data.loc[:, [\"Inflation rate\", \"GDP\"]]  \n",
    "y = data[\"Target\"] \n",
    "new=pd.DataFrame(X,y)\n",
    "print(new)"
   ]
  },
  {
   "cell_type": "code",
   "execution_count": 6,
   "id": "142c649e",
   "metadata": {},
   "outputs": [],
   "source": [
    "X_train, X_test, y_train, y_test = train_test_split(X, y, test_size=0.3, random_state=20)"
   ]
  },
  {
   "cell_type": "code",
   "execution_count": 7,
   "id": "c80e3b06",
   "metadata": {},
   "outputs": [],
   "source": [
    "classifier = GaussianNB()"
   ]
  },
  {
   "cell_type": "code",
   "execution_count": 8,
   "id": "fb0cad66",
   "metadata": {},
   "outputs": [
    {
     "data": {
      "text/html": [
       "<style>#sk-container-id-1 {color: black;}#sk-container-id-1 pre{padding: 0;}#sk-container-id-1 div.sk-toggleable {background-color: white;}#sk-container-id-1 label.sk-toggleable__label {cursor: pointer;display: block;width: 100%;margin-bottom: 0;padding: 0.3em;box-sizing: border-box;text-align: center;}#sk-container-id-1 label.sk-toggleable__label-arrow:before {content: \"▸\";float: left;margin-right: 0.25em;color: #696969;}#sk-container-id-1 label.sk-toggleable__label-arrow:hover:before {color: black;}#sk-container-id-1 div.sk-estimator:hover label.sk-toggleable__label-arrow:before {color: black;}#sk-container-id-1 div.sk-toggleable__content {max-height: 0;max-width: 0;overflow: hidden;text-align: left;background-color: #f0f8ff;}#sk-container-id-1 div.sk-toggleable__content pre {margin: 0.2em;color: black;border-radius: 0.25em;background-color: #f0f8ff;}#sk-container-id-1 input.sk-toggleable__control:checked~div.sk-toggleable__content {max-height: 200px;max-width: 100%;overflow: auto;}#sk-container-id-1 input.sk-toggleable__control:checked~label.sk-toggleable__label-arrow:before {content: \"▾\";}#sk-container-id-1 div.sk-estimator input.sk-toggleable__control:checked~label.sk-toggleable__label {background-color: #d4ebff;}#sk-container-id-1 div.sk-label input.sk-toggleable__control:checked~label.sk-toggleable__label {background-color: #d4ebff;}#sk-container-id-1 input.sk-hidden--visually {border: 0;clip: rect(1px 1px 1px 1px);clip: rect(1px, 1px, 1px, 1px);height: 1px;margin: -1px;overflow: hidden;padding: 0;position: absolute;width: 1px;}#sk-container-id-1 div.sk-estimator {font-family: monospace;background-color: #f0f8ff;border: 1px dotted black;border-radius: 0.25em;box-sizing: border-box;margin-bottom: 0.5em;}#sk-container-id-1 div.sk-estimator:hover {background-color: #d4ebff;}#sk-container-id-1 div.sk-parallel-item::after {content: \"\";width: 100%;border-bottom: 1px solid gray;flex-grow: 1;}#sk-container-id-1 div.sk-label:hover label.sk-toggleable__label {background-color: #d4ebff;}#sk-container-id-1 div.sk-serial::before {content: \"\";position: absolute;border-left: 1px solid gray;box-sizing: border-box;top: 0;bottom: 0;left: 50%;z-index: 0;}#sk-container-id-1 div.sk-serial {display: flex;flex-direction: column;align-items: center;background-color: white;padding-right: 0.2em;padding-left: 0.2em;position: relative;}#sk-container-id-1 div.sk-item {position: relative;z-index: 1;}#sk-container-id-1 div.sk-parallel {display: flex;align-items: stretch;justify-content: center;background-color: white;position: relative;}#sk-container-id-1 div.sk-item::before, #sk-container-id-1 div.sk-parallel-item::before {content: \"\";position: absolute;border-left: 1px solid gray;box-sizing: border-box;top: 0;bottom: 0;left: 50%;z-index: -1;}#sk-container-id-1 div.sk-parallel-item {display: flex;flex-direction: column;z-index: 1;position: relative;background-color: white;}#sk-container-id-1 div.sk-parallel-item:first-child::after {align-self: flex-end;width: 50%;}#sk-container-id-1 div.sk-parallel-item:last-child::after {align-self: flex-start;width: 50%;}#sk-container-id-1 div.sk-parallel-item:only-child::after {width: 0;}#sk-container-id-1 div.sk-dashed-wrapped {border: 1px dashed gray;margin: 0 0.4em 0.5em 0.4em;box-sizing: border-box;padding-bottom: 0.4em;background-color: white;}#sk-container-id-1 div.sk-label label {font-family: monospace;font-weight: bold;display: inline-block;line-height: 1.2em;}#sk-container-id-1 div.sk-label-container {text-align: center;}#sk-container-id-1 div.sk-container {/* jupyter's `normalize.less` sets `[hidden] { display: none; }` but bootstrap.min.css set `[hidden] { display: none !important; }` so we also need the `!important` here to be able to override the default hidden behavior on the sphinx rendered scikit-learn.org. See: https://github.com/scikit-learn/scikit-learn/issues/21755 */display: inline-block !important;position: relative;}#sk-container-id-1 div.sk-text-repr-fallback {display: none;}</style><div id=\"sk-container-id-1\" class=\"sk-top-container\"><div class=\"sk-text-repr-fallback\"><pre>GaussianNB()</pre><b>In a Jupyter environment, please rerun this cell to show the HTML representation or trust the notebook. <br />On GitHub, the HTML representation is unable to render, please try loading this page with nbviewer.org.</b></div><div class=\"sk-container\" hidden><div class=\"sk-item\"><div class=\"sk-estimator sk-toggleable\"><input class=\"sk-toggleable__control sk-hidden--visually\" id=\"sk-estimator-id-1\" type=\"checkbox\" checked><label for=\"sk-estimator-id-1\" class=\"sk-toggleable__label sk-toggleable__label-arrow\">GaussianNB</label><div class=\"sk-toggleable__content\"><pre>GaussianNB()</pre></div></div></div></div></div>"
      ],
      "text/plain": [
       "GaussianNB()"
      ]
     },
     "execution_count": 8,
     "metadata": {},
     "output_type": "execute_result"
    }
   ],
   "source": [
    "classifier.fit(X_train, y_train)"
   ]
  },
  {
   "cell_type": "code",
   "execution_count": 9,
   "id": "f8c92d0e",
   "metadata": {},
   "outputs": [
    {
     "name": "stdout",
     "output_type": "stream",
     "text": [
      "['Graduate' 'Graduate' 'Graduate' ... 'Graduate' 'Graduate' 'Graduate']\n"
     ]
    }
   ],
   "source": [
    "y_pred = classifier.predict(X_test)\n",
    "print(y_pred)"
   ]
  },
  {
   "cell_type": "code",
   "execution_count": 10,
   "id": "8b584491",
   "metadata": {},
   "outputs": [
    {
     "name": "stdout",
     "output_type": "stream",
     "text": [
      "Accuracy: 0.5112951807228916\n"
     ]
    }
   ],
   "source": [
    "accuracy = accuracy_score(y_test, y_pred)\n",
    "print(\"Accuracy:\", accuracy)"
   ]
  },
  {
   "cell_type": "code",
   "execution_count": 11,
   "id": "902e7e89",
   "metadata": {},
   "outputs": [
    {
     "name": "stdout",
     "output_type": "stream",
     "text": [
      "Classification Report:\n",
      "              precision    recall  f1-score   support\n",
      "\n",
      "     Dropout       0.00      0.00      0.00       417\n",
      "    Enrolled       0.00      0.00      0.00       232\n",
      "    Graduate       0.51      1.00      0.68       679\n",
      "\n",
      "    accuracy                           0.51      1328\n",
      "   macro avg       0.17      0.33      0.23      1328\n",
      "weighted avg       0.26      0.51      0.35      1328\n",
      "\n"
     ]
    },
    {
     "name": "stderr",
     "output_type": "stream",
     "text": [
      "C:\\Users\\harin\\anaconda3\\Lib\\site-packages\\sklearn\\metrics\\_classification.py:1469: UndefinedMetricWarning: Precision and F-score are ill-defined and being set to 0.0 in labels with no predicted samples. Use `zero_division` parameter to control this behavior.\n",
      "  _warn_prf(average, modifier, msg_start, len(result))\n",
      "C:\\Users\\harin\\anaconda3\\Lib\\site-packages\\sklearn\\metrics\\_classification.py:1469: UndefinedMetricWarning: Precision and F-score are ill-defined and being set to 0.0 in labels with no predicted samples. Use `zero_division` parameter to control this behavior.\n",
      "  _warn_prf(average, modifier, msg_start, len(result))\n",
      "C:\\Users\\harin\\anaconda3\\Lib\\site-packages\\sklearn\\metrics\\_classification.py:1469: UndefinedMetricWarning: Precision and F-score are ill-defined and being set to 0.0 in labels with no predicted samples. Use `zero_division` parameter to control this behavior.\n",
      "  _warn_prf(average, modifier, msg_start, len(result))\n"
     ]
    }
   ],
   "source": [
    "print(\"Classification Report:\")\n",
    "print(classification_report(y_test, y_pred))"
   ]
  },
  {
   "cell_type": "code",
   "execution_count": 12,
   "id": "51978f45",
   "metadata": {},
   "outputs": [
    {
     "name": "stdout",
     "output_type": "stream",
     "text": [
      "False Percentage: 48.87048192771084\n"
     ]
    }
   ],
   "source": [
    "false_percentage = (1 - accuracy) * 100\n",
    "print(\"False Percentage:\", false_percentage)"
   ]
  },
  {
   "cell_type": "code",
   "execution_count": 13,
   "id": "3d900119",
   "metadata": {},
   "outputs": [
    {
     "name": "stdout",
     "output_type": "stream",
     "text": [
      "          Inflation rate  GDP\n",
      "Graduate             NaN  NaN\n",
      "Graduate             NaN  NaN\n",
      "Graduate             NaN  NaN\n",
      "Graduate             NaN  NaN\n",
      "Graduate             NaN  NaN\n",
      "...                  ...  ...\n",
      "Graduate             NaN  NaN\n",
      "Graduate             NaN  NaN\n",
      "Graduate             NaN  NaN\n",
      "Graduate             NaN  NaN\n",
      "Graduate             NaN  NaN\n",
      "\n",
      "[1328 rows x 2 columns]\n"
     ]
    }
   ],
   "source": [
    "new=pd.DataFrame(X_test,y_pred)\n",
    "print(new)"
   ]
  },
  {
   "cell_type": "code",
   "execution_count": 14,
   "id": "5ce099d6",
   "metadata": {},
   "outputs": [
    {
     "data": {
      "text/plain": [
       "array([[  0,   0, 417],\n",
       "       [  0,   0, 232],\n",
       "       [  0,   0, 679]], dtype=int64)"
      ]
     },
     "execution_count": 14,
     "metadata": {},
     "output_type": "execute_result"
    }
   ],
   "source": [
    "from sklearn.metrics import confusion_matrix\n",
    "conf_matrix = confusion_matrix(y_test, y_pred)\n",
    "conf_matrix"
   ]
  },
  {
   "cell_type": "code",
   "execution_count": 16,
   "id": "accd90b0",
   "metadata": {},
   "outputs": [],
   "source": [
    "import seaborn as sns"
   ]
  },
  {
   "cell_type": "code",
   "execution_count": 18,
   "id": "601def80",
   "metadata": {},
   "outputs": [
    {
     "data": {
      "image/png": "[encoded data removed]",
      "text/plain": [
       "<Figure size 800x600 with 1 Axes>"
      ]
     },
     "metadata": {},
     "output_type": "display_data"
    }
   ],
   "source": [
    "import matplotlib.pyplot as plt\n",
    "plt.figure(figsize=(8, 6))\n",
    "sns.heatmap(conf_matrix, annot=True, fmt=\"d\", cmap=\"pink\", cbar=False)\n",
    "plt.title(\"Confusion Matrix\")\n",
    "plt.xlabel(\"Predicted Labels\")\n",
    "plt.ylabel(\"True Labels\")\n",
    "plt.show()"
   ]
  },
  {
   "cell_type": "code",
   "execution_count": null,
   "id": "6b66ee10",
   "metadata": {},
   "outputs": [],
   "source": []
  }
 ],
 "metadata": {
  "kernelspec": {
   "display_name": "Python 3 (ipykernel)",
   "language": "python",
   "name": "python3"
  },
  "language_info": {
   "codemirror_mode": {
    "name": "ipython",
    "version": 3
   },
   "file_extension": ".py",
   "mimetype": "text/x-python",
   "name": "python",
   "nbconvert_exporter": "python",
   "pygments_lexer": "ipython3",
   "version": "3.11.5"
  }
 },
 "nbformat": 4,
 "nbformat_minor": 5
}
